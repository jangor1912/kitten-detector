{
 "cells": [
  {
   "cell_type": "markdown",
   "source": [
    "# YOLO v4 trained on COCO dataset with TAO Toolkit"
   ],
   "metadata": {
    "collapsed": false
   }
  },
  {
   "cell_type": "markdown",
   "source": [
    "## Change COCO datat-set into tf-records format\n",
    "\n",
    "Please fill the variables below accordingly"
   ],
   "metadata": {
    "collapsed": false
   }
  },
  {
   "cell_type": "code",
   "execution_count": 1,
   "outputs": [],
   "source": [
    "from pathlib import Path\n",
    "\n",
    "SCRIPT_DIR = Path(\"~/Projects/tf-models/research/object_detection\")\n",
    "COCO_DIR = Path(\"/media/jan/T7 - Jan/coco\")\n",
    "OUTPUT_DIR = COCO_DIR / \"tf-records\"\n",
    "IMAGE_DIR = COCO_DIR / \"images\"\n",
    "ANNOTATION_DIR = COCO_DIR / \"annotations\"\n",
    "TRAIN_IMAGE_DIR = IMAGE_DIR / \"train2017\"\n",
    "TRAIN_OBJ_ANNOTATIONS_FILE = ANNOTATION_DIR / \"instances_train2017.json\"\n",
    "TRAIN_CAPTION_ANNOTATIONS_FILE = ANNOTATION_DIR / \"captions_train2017.json\""
   ],
   "metadata": {
    "collapsed": false
   }
  },
  {
   "cell_type": "code",
   "execution_count": 10,
   "outputs": [],
   "source": [
    "from object_detection.dataset_tools.create_coco_tf_record import FLAGS, main as create_coco_tf_record_func"
   ],
   "metadata": {
    "collapsed": false
   }
  },
  {
   "cell_type": "code",
   "execution_count": 13,
   "outputs": [
    {
     "ename": "ValueError",
     "evalue": "argv cannot be an empty list, and must contain the program name as the first element.",
     "output_type": "error",
     "traceback": [
      "\u001B[0;31m---------------------------------------------------------------------------\u001B[0m",
      "\u001B[0;31mValueError\u001B[0m                                Traceback (most recent call last)",
      "Cell \u001B[0;32mIn[13], line 12\u001B[0m\n\u001B[1;32m      3\u001B[0m sys\u001B[38;5;241m.\u001B[39margv \u001B[38;5;241m=\u001B[39m []\n\u001B[1;32m      4\u001B[0m arguments \u001B[38;5;241m=\u001B[39m [\n\u001B[1;32m      5\u001B[0m     \u001B[38;5;124m\"\u001B[39m\u001B[38;5;124m--logtostderr\u001B[39m\u001B[38;5;124m\"\u001B[39m,\n\u001B[1;32m      6\u001B[0m     \u001B[38;5;124mf\u001B[39m\u001B[38;5;124m\"\u001B[39m\u001B[38;5;124m--image_dir=\u001B[39m\u001B[38;5;132;01m{\u001B[39;00mTRAIN_IMAGE_DIR\u001B[38;5;132;01m}\u001B[39;00m\u001B[38;5;124m\"\u001B[39m,\n\u001B[0;32m   (...)\u001B[0m\n\u001B[1;32m     10\u001B[0m     \u001B[38;5;124mf\u001B[39m\u001B[38;5;124m\"\u001B[39m\u001B[38;5;124m--num_shards=256\u001B[39m\u001B[38;5;124m\"\u001B[39m\n\u001B[1;32m     11\u001B[0m ]\n\u001B[0;32m---> 12\u001B[0m flags_passthrough \u001B[38;5;241m=\u001B[39m \u001B[43mFLAGS\u001B[49m\u001B[38;5;241;43m.\u001B[39;49m\u001B[43m_parse_flags\u001B[49m(args\u001B[38;5;241m=\u001B[39marguments)\n",
      "File \u001B[0;32m~/anaconda3/envs/kitten-detector/lib/python3.9/site-packages/tensorflow/python/platform/flags.py:80\u001B[0m, in \u001B[0;36m_FlagValuesWrapper.__getattr__\u001B[0;34m(self, name)\u001B[0m\n\u001B[1;32m     77\u001B[0m \u001B[38;5;66;03m# To maintain backwards compatibility, implicitly parse flags when reading\u001B[39;00m\n\u001B[1;32m     78\u001B[0m \u001B[38;5;66;03m# a flag.\u001B[39;00m\n\u001B[1;32m     79\u001B[0m \u001B[38;5;28;01mif\u001B[39;00m \u001B[38;5;129;01mnot\u001B[39;00m wrapped\u001B[38;5;241m.\u001B[39mis_parsed():\n\u001B[0;32m---> 80\u001B[0m   \u001B[43mwrapped\u001B[49m\u001B[43m(\u001B[49m\u001B[43m_sys\u001B[49m\u001B[38;5;241;43m.\u001B[39;49m\u001B[43margv\u001B[49m\u001B[43m)\u001B[49m\n\u001B[1;32m     81\u001B[0m \u001B[38;5;28;01mreturn\u001B[39;00m wrapped\u001B[38;5;241m.\u001B[39m\u001B[38;5;21m__getattr__\u001B[39m(name)\n",
      "File \u001B[0;32m~/anaconda3/envs/kitten-detector/lib/python3.9/site-packages/absl/flags/_flagvalues.py:637\u001B[0m, in \u001B[0;36mFlagValues.__call__\u001B[0;34m(self, argv, known_only)\u001B[0m\n\u001B[1;32m    634\u001B[0m   \u001B[38;5;28;01mraise\u001B[39;00m \u001B[38;5;167;01mTypeError\u001B[39;00m(\n\u001B[1;32m    635\u001B[0m       \u001B[38;5;124m'\u001B[39m\u001B[38;5;124margv should be a tuple/list of strings, not bytes or string.\u001B[39m\u001B[38;5;124m'\u001B[39m)\n\u001B[1;32m    636\u001B[0m \u001B[38;5;28;01mif\u001B[39;00m \u001B[38;5;129;01mnot\u001B[39;00m argv:\n\u001B[0;32m--> 637\u001B[0m   \u001B[38;5;28;01mraise\u001B[39;00m \u001B[38;5;167;01mValueError\u001B[39;00m(\n\u001B[1;32m    638\u001B[0m       \u001B[38;5;124m'\u001B[39m\u001B[38;5;124margv cannot be an empty list, and must contain the program name as \u001B[39m\u001B[38;5;124m'\u001B[39m\n\u001B[1;32m    639\u001B[0m       \u001B[38;5;124m'\u001B[39m\u001B[38;5;124mthe first element.\u001B[39m\u001B[38;5;124m'\u001B[39m)\n\u001B[1;32m    641\u001B[0m \u001B[38;5;66;03m# This pre parses the argv list for --flagfile=<> options.\u001B[39;00m\n\u001B[1;32m    642\u001B[0m program_name \u001B[38;5;241m=\u001B[39m argv[\u001B[38;5;241m0\u001B[39m]\n",
      "\u001B[0;31mValueError\u001B[0m: argv cannot be an empty list, and must contain the program name as the first element."
     ]
    }
   ],
   "source": [
    "import sys\n",
    "\n",
    "sys.argv = []\n",
    "arguments = [\n",
    "    \"--logtostderr\",\n",
    "    f\"--image_dir={TRAIN_IMAGE_DIR}\",\n",
    "    f\"--object_annotations_file={TRAIN_OBJ_ANNOTATIONS_FILE}\",\n",
    "    f\"--caption_annotations_file={TRAIN_CAPTION_ANNOTATIONS_FILE}\",\n",
    "    f\"--output_file_prefix={OUTPUT_DIR}/train\",\n",
    "    f\"--num_shards=256\"\n",
    "]\n",
    "flags_passthrough = FLAGS._parse_flags(args=arguments)"
   ],
   "metadata": {
    "collapsed": false
   }
  },
  {
   "cell_type": "code",
   "execution_count": 22,
   "outputs": [
    {
     "ename": "DuplicateFlagError",
     "evalue": "The flag 'train_image_dir' is defined twice. First from /home/jan/Projects/tf-models/research/object_detection/dataset_tools/create_coco_tf_record.py, Second from /home/jan/Projects/tf-models/research/object_detection/dataset_tools/create_coco_tf_record.py.  Description from first occurrence: Training image directory.",
     "output_type": "error",
     "traceback": [
      "\u001B[0;31m---------------------------------------------------------------------------\u001B[0m",
      "\u001B[0;31mDuplicateFlagError\u001B[0m                        Traceback (most recent call last)",
      "File \u001B[0;32m~/Projects/tf-models/research/object_detection/dataset_tools/create_coco_tf_record.py:53\u001B[0m\n\u001B[1;32m     50\u001B[0m \u001B[38;5;28;01mfrom\u001B[39;00m \u001B[38;5;21;01mobject_detection\u001B[39;00m\u001B[38;5;21;01m.\u001B[39;00m\u001B[38;5;21;01mutils\u001B[39;00m \u001B[38;5;28;01mimport\u001B[39;00m label_map_util\n\u001B[1;32m     52\u001B[0m flags \u001B[38;5;241m=\u001B[39m tf\u001B[38;5;241m.\u001B[39mapp\u001B[38;5;241m.\u001B[39mflags\n\u001B[0;32m---> 53\u001B[0m \u001B[43mtf\u001B[49m\u001B[38;5;241;43m.\u001B[39;49m\u001B[43mflags\u001B[49m\u001B[38;5;241;43m.\u001B[39;49m\u001B[43mDEFINE_string\u001B[49m\u001B[43m(\u001B[49m\u001B[38;5;124;43m'\u001B[39;49m\u001B[38;5;124;43mtrain_image_dir\u001B[39;49m\u001B[38;5;124;43m'\u001B[39;49m\u001B[43m,\u001B[49m\u001B[43m \u001B[49m\u001B[38;5;124;43m'\u001B[39;49m\u001B[38;5;124;43m'\u001B[39;49m\u001B[43m,\u001B[49m\u001B[43m \u001B[49m\u001B[38;5;124;43m'\u001B[39;49m\u001B[38;5;124;43mTraining image directory.\u001B[39;49m\u001B[38;5;124;43m'\u001B[39;49m\u001B[43m)\u001B[49m\n\u001B[1;32m     54\u001B[0m tf\u001B[38;5;241m.\u001B[39mflags\u001B[38;5;241m.\u001B[39mDEFINE_string(\u001B[38;5;124m'\u001B[39m\u001B[38;5;124mval_image_dir\u001B[39m\u001B[38;5;124m'\u001B[39m, \u001B[38;5;124m'\u001B[39m\u001B[38;5;124m'\u001B[39m, \u001B[38;5;124m'\u001B[39m\u001B[38;5;124mValidation image directory.\u001B[39m\u001B[38;5;124m'\u001B[39m)\n\u001B[1;32m     55\u001B[0m tf\u001B[38;5;241m.\u001B[39mflags\u001B[38;5;241m.\u001B[39mDEFINE_string(\u001B[38;5;124m'\u001B[39m\u001B[38;5;124mtest_image_dir\u001B[39m\u001B[38;5;124m'\u001B[39m, \u001B[38;5;124m'\u001B[39m\u001B[38;5;124m'\u001B[39m, \u001B[38;5;124m'\u001B[39m\u001B[38;5;124mTest image directory.\u001B[39m\u001B[38;5;124m'\u001B[39m)\n",
      "File \u001B[0;32m~/anaconda3/envs/kitten-detector/lib/python3.9/site-packages/tensorflow/python/platform/flags.py:54\u001B[0m, in \u001B[0;36m_wrap_define_function.<locals>.wrapper\u001B[0;34m(*args, **kwargs)\u001B[0m\n\u001B[1;32m     50\u001B[0m \u001B[38;5;28;01mif\u001B[39;00m has_old_names:\n\u001B[1;32m     51\u001B[0m   _logging\u001B[38;5;241m.\u001B[39mwarning(\n\u001B[1;32m     52\u001B[0m       \u001B[38;5;124m'\u001B[39m\u001B[38;5;124mUse of the keyword argument names (flag_name, default_value, \u001B[39m\u001B[38;5;124m'\u001B[39m\n\u001B[1;32m     53\u001B[0m       \u001B[38;5;124m'\u001B[39m\u001B[38;5;124mdocstring) is deprecated, please use (name, default, help) instead.\u001B[39m\u001B[38;5;124m'\u001B[39m)\n\u001B[0;32m---> 54\u001B[0m \u001B[38;5;28;01mreturn\u001B[39;00m \u001B[43moriginal_function\u001B[49m\u001B[43m(\u001B[49m\u001B[38;5;241;43m*\u001B[39;49m\u001B[43margs\u001B[49m\u001B[43m,\u001B[49m\u001B[43m \u001B[49m\u001B[38;5;241;43m*\u001B[39;49m\u001B[38;5;241;43m*\u001B[39;49m\u001B[43mkwargs\u001B[49m\u001B[43m)\u001B[49m\n",
      "File \u001B[0;32m~/anaconda3/envs/kitten-detector/lib/python3.9/site-packages/absl/flags/_defines.py:301\u001B[0m, in \u001B[0;36mDEFINE_string\u001B[0;34m(name, default, help, flag_values, required, **args)\u001B[0m\n\u001B[1;32m    299\u001B[0m parser \u001B[38;5;241m=\u001B[39m _argument_parser\u001B[38;5;241m.\u001B[39mArgumentParser()\n\u001B[1;32m    300\u001B[0m serializer \u001B[38;5;241m=\u001B[39m _argument_parser\u001B[38;5;241m.\u001B[39mArgumentSerializer()\n\u001B[0;32m--> 301\u001B[0m \u001B[38;5;28;01mreturn\u001B[39;00m \u001B[43mDEFINE\u001B[49m\u001B[43m(\u001B[49m\n\u001B[1;32m    302\u001B[0m \u001B[43m    \u001B[49m\u001B[43mparser\u001B[49m\u001B[43m,\u001B[49m\n\u001B[1;32m    303\u001B[0m \u001B[43m    \u001B[49m\u001B[43mname\u001B[49m\u001B[43m,\u001B[49m\n\u001B[1;32m    304\u001B[0m \u001B[43m    \u001B[49m\u001B[43mdefault\u001B[49m\u001B[43m,\u001B[49m\n\u001B[1;32m    305\u001B[0m \u001B[43m    \u001B[49m\u001B[43mhelp\u001B[49m\u001B[43m,\u001B[49m\n\u001B[1;32m    306\u001B[0m \u001B[43m    \u001B[49m\u001B[43mflag_values\u001B[49m\u001B[43m,\u001B[49m\n\u001B[1;32m    307\u001B[0m \u001B[43m    \u001B[49m\u001B[43mserializer\u001B[49m\u001B[43m,\u001B[49m\n\u001B[1;32m    308\u001B[0m \u001B[43m    \u001B[49m\u001B[43mrequired\u001B[49m\u001B[38;5;241;43m=\u001B[39;49m\u001B[43mrequired\u001B[49m\u001B[43m,\u001B[49m\n\u001B[1;32m    309\u001B[0m \u001B[43m    \u001B[49m\u001B[38;5;241;43m*\u001B[39;49m\u001B[38;5;241;43m*\u001B[39;49m\u001B[43margs\u001B[49m\u001B[43m)\u001B[49m\n",
      "File \u001B[0;32m~/anaconda3/envs/kitten-detector/lib/python3.9/site-packages/absl/flags/_defines.py:100\u001B[0m, in \u001B[0;36mDEFINE\u001B[0;34m(parser, name, default, help, flag_values, serializer, module_name, required, **args)\u001B[0m\n\u001B[1;32m     65\u001B[0m \u001B[38;5;28;01mdef\u001B[39;00m \u001B[38;5;21mDEFINE\u001B[39m(  \u001B[38;5;66;03m# pylint: disable=invalid-name\u001B[39;00m\n\u001B[1;32m     66\u001B[0m     parser,\n\u001B[1;32m     67\u001B[0m     name,\n\u001B[0;32m   (...)\u001B[0m\n\u001B[1;32m     73\u001B[0m     required\u001B[38;5;241m=\u001B[39m\u001B[38;5;28;01mFalse\u001B[39;00m,\n\u001B[1;32m     74\u001B[0m     \u001B[38;5;241m*\u001B[39m\u001B[38;5;241m*\u001B[39margs):\n\u001B[1;32m     75\u001B[0m \u001B[38;5;250m  \u001B[39m\u001B[38;5;124;03m\"\"\"Registers a generic Flag object.\u001B[39;00m\n\u001B[1;32m     76\u001B[0m \n\u001B[1;32m     77\u001B[0m \u001B[38;5;124;03m  NOTE: in the docstrings of all DEFINE* functions, \"registers\" is short\u001B[39;00m\n\u001B[0;32m   (...)\u001B[0m\n\u001B[1;32m     98\u001B[0m \u001B[38;5;124;03m    a handle to defined flag.\u001B[39;00m\n\u001B[1;32m     99\u001B[0m \u001B[38;5;124;03m  \"\"\"\u001B[39;00m\n\u001B[0;32m--> 100\u001B[0m   \u001B[38;5;28;01mreturn\u001B[39;00m \u001B[43mDEFINE_flag\u001B[49m\u001B[43m(\u001B[49m\n\u001B[1;32m    101\u001B[0m \u001B[43m      \u001B[49m\u001B[43m_flag\u001B[49m\u001B[38;5;241;43m.\u001B[39;49m\u001B[43mFlag\u001B[49m\u001B[43m(\u001B[49m\u001B[43mparser\u001B[49m\u001B[43m,\u001B[49m\u001B[43m \u001B[49m\u001B[43mserializer\u001B[49m\u001B[43m,\u001B[49m\u001B[43m \u001B[49m\u001B[43mname\u001B[49m\u001B[43m,\u001B[49m\u001B[43m \u001B[49m\u001B[43mdefault\u001B[49m\u001B[43m,\u001B[49m\u001B[43m \u001B[49m\u001B[43mhelp\u001B[49m\u001B[43m,\u001B[49m\u001B[43m \u001B[49m\u001B[38;5;241;43m*\u001B[39;49m\u001B[38;5;241;43m*\u001B[39;49m\u001B[43margs\u001B[49m\u001B[43m)\u001B[49m\u001B[43m,\u001B[49m\u001B[43m \u001B[49m\u001B[43mflag_values\u001B[49m\u001B[43m,\u001B[49m\n\u001B[1;32m    102\u001B[0m \u001B[43m      \u001B[49m\u001B[43mmodule_name\u001B[49m\u001B[43m,\u001B[49m\u001B[43m \u001B[49m\u001B[43mrequired\u001B[49m\u001B[43m)\u001B[49m\n",
      "File \u001B[0;32m~/anaconda3/envs/kitten-detector/lib/python3.9/site-packages/absl/flags/_defines.py:136\u001B[0m, in \u001B[0;36mDEFINE_flag\u001B[0;34m(flag, flag_values, module_name, required)\u001B[0m\n\u001B[1;32m    134\u001B[0m \u001B[38;5;66;03m# Copying the reference to flag_values prevents pychecker warnings.\u001B[39;00m\n\u001B[1;32m    135\u001B[0m fv \u001B[38;5;241m=\u001B[39m flag_values\n\u001B[0;32m--> 136\u001B[0m \u001B[43mfv\u001B[49m\u001B[43m[\u001B[49m\u001B[43mflag\u001B[49m\u001B[38;5;241;43m.\u001B[39;49m\u001B[43mname\u001B[49m\u001B[43m]\u001B[49m \u001B[38;5;241m=\u001B[39m flag\n\u001B[1;32m    137\u001B[0m \u001B[38;5;66;03m# Tell flag_values who's defining the flag.\u001B[39;00m\n\u001B[1;32m    138\u001B[0m \u001B[38;5;28;01mif\u001B[39;00m module_name:\n",
      "File \u001B[0;32m~/anaconda3/envs/kitten-detector/lib/python3.9/site-packages/absl/flags/_flagvalues.py:432\u001B[0m, in \u001B[0;36mFlagValues.__setitem__\u001B[0;34m(self, name, flag)\u001B[0m\n\u001B[1;32m    426\u001B[0m   \u001B[38;5;28;01mif\u001B[39;00m (\u001B[38;5;28mself\u001B[39m\u001B[38;5;241m.\u001B[39mfind_module_defining_flag(name) \u001B[38;5;241m==\u001B[39m module_name \u001B[38;5;129;01mand\u001B[39;00m\n\u001B[1;32m    427\u001B[0m       \u001B[38;5;28mid\u001B[39m(module) \u001B[38;5;241m!=\u001B[39m \u001B[38;5;28mself\u001B[39m\u001B[38;5;241m.\u001B[39mfind_module_id_defining_flag(name)):\n\u001B[1;32m    428\u001B[0m     \u001B[38;5;66;03m# If the flag has already been defined by a module with the same name,\u001B[39;00m\n\u001B[1;32m    429\u001B[0m     \u001B[38;5;66;03m# but a different ID, we can stop here because it indicates that the\u001B[39;00m\n\u001B[1;32m    430\u001B[0m     \u001B[38;5;66;03m# module is simply being imported a subsequent time.\u001B[39;00m\n\u001B[1;32m    431\u001B[0m     \u001B[38;5;28;01mreturn\u001B[39;00m\n\u001B[0;32m--> 432\u001B[0m   \u001B[38;5;28;01mraise\u001B[39;00m _exceptions\u001B[38;5;241m.\u001B[39mDuplicateFlagError\u001B[38;5;241m.\u001B[39mfrom_flag(name, \u001B[38;5;28mself\u001B[39m)\n\u001B[1;32m    433\u001B[0m short_name \u001B[38;5;241m=\u001B[39m flag\u001B[38;5;241m.\u001B[39mshort_name\n\u001B[1;32m    434\u001B[0m \u001B[38;5;66;03m# If a new flag overrides an old one, we need to cleanup the old flag's\u001B[39;00m\n\u001B[1;32m    435\u001B[0m \u001B[38;5;66;03m# modules if it's not registered.\u001B[39;00m\n",
      "\u001B[0;31mDuplicateFlagError\u001B[0m: The flag 'train_image_dir' is defined twice. First from /home/jan/Projects/tf-models/research/object_detection/dataset_tools/create_coco_tf_record.py, Second from /home/jan/Projects/tf-models/research/object_detection/dataset_tools/create_coco_tf_record.py.  Description from first occurrence: Training image directory."
     ]
    }
   ],
   "source": [
    "%run ~/Projects/tf-models/research/object_detection/dataset_tools/create_coco_tf_record.py \\\n",
    "    --logtostderr \\\n",
    "    --image_dir={TRAIN_IMAGE_DIR} \\\n",
    "    --object_annotations_file={TRAIN_OBJ_ANNOTATIONS_FILE} \\\n",
    "    --caption_annotations_file={TRAIN_CAPTION_ANNOTATIONS_FILE} \\\n",
    "    --output_file_prefix={OUTPUT_DIR}/train \\\n",
    "    --num_shards=256"
   ],
   "metadata": {
    "collapsed": false
   }
  },
  {
   "cell_type": "code",
   "execution_count": 8,
   "outputs": [
    {
     "name": "stderr",
     "output_type": "stream",
     "text": [
      "python3: can't open file '/home/jan/Projects/kitten-detector/notebooks/object-detection/~/Projects/tf-models/research/create_coco_tf_record.py': [Errno 2] No such file or directory\n"
     ]
    },
    {
     "ename": "CalledProcessError",
     "evalue": "Command 'b'SCRIPT_DIR=\"~/Projects/tf-models/research\"\\nCOCO_DIR=\"/media/jan/T7 - Jan/coco\"\\nOUTPUT_DIR=\"${COCO_DIR}/tf-records\"\\nIMAGE_DIR=\"${COCO_DIR}/images\"\\nANNOTATION_DIR=\"${COCO_DIR}/annotations\"\\nTRAIN_IMAGE_DIR=\"${IMAGE_DIR}/train2017\"\\nTRAIN_OBJ_ANNOTATIONS_FILE=\"${ANNOTATION_DIR}/instances_train2017.json\"\\nTRAIN_CAPTION_ANNOTATIONS_FILE=\"${ANNOTATION_DIR}/captions_train2017.json\"\\nPYTHONPATH=\"tf-models:tf-models/research\" python3 $SCRIPT_DIR/create_coco_tf_record.py \\\\\\n--logtostderr \\\\\\n--include_masks \\\\\\n--image_dir=\"${TRAIN_IMAGE_DIR}\" \\\\\\n--object_annotations_file=\"${TRAIN_OBJ_ANNOTATIONS_FILE}\" \\\\\\n--caption_annotations_file=\"${TRAIN_CAPTION_ANNOTATIONS_FILE}\" \\\\\\n--output_file_prefix=\"${OUTPUT_DIR}/train\" \\\\\\n--num_shards=256\\n'' returned non-zero exit status 2.",
     "output_type": "error",
     "traceback": [
      "\u001B[0;31m---------------------------------------------------------------------------\u001B[0m",
      "\u001B[0;31mCalledProcessError\u001B[0m                        Traceback (most recent call last)",
      "Cell \u001B[0;32mIn[8], line 1\u001B[0m\n\u001B[0;32m----> 1\u001B[0m \u001B[43mget_ipython\u001B[49m\u001B[43m(\u001B[49m\u001B[43m)\u001B[49m\u001B[38;5;241;43m.\u001B[39;49m\u001B[43mrun_cell_magic\u001B[49m\u001B[43m(\u001B[49m\u001B[38;5;124;43m'\u001B[39;49m\u001B[38;5;124;43msh\u001B[39;49m\u001B[38;5;124;43m'\u001B[39;49m\u001B[43m,\u001B[49m\u001B[43m \u001B[49m\u001B[38;5;124;43m'\u001B[39;49m\u001B[38;5;124;43m'\u001B[39;49m\u001B[43m,\u001B[49m\u001B[43m \u001B[49m\u001B[38;5;124;43m'\u001B[39;49m\u001B[38;5;124;43mSCRIPT_DIR=\u001B[39;49m\u001B[38;5;124;43m\"\u001B[39;49m\u001B[38;5;124;43m~/Projects/tf-models/research\u001B[39;49m\u001B[38;5;124;43m\"\u001B[39;49m\u001B[38;5;130;43;01m\\n\u001B[39;49;00m\u001B[38;5;124;43mCOCO_DIR=\u001B[39;49m\u001B[38;5;124;43m\"\u001B[39;49m\u001B[38;5;124;43m/media/jan/T7 - Jan/coco\u001B[39;49m\u001B[38;5;124;43m\"\u001B[39;49m\u001B[38;5;130;43;01m\\n\u001B[39;49;00m\u001B[38;5;124;43mOUTPUT_DIR=\u001B[39;49m\u001B[38;5;124;43m\"\u001B[39;49m\u001B[38;5;124;43m$\u001B[39;49m\u001B[38;5;132;43;01m{COCO_DIR}\u001B[39;49;00m\u001B[38;5;124;43m/tf-records\u001B[39;49m\u001B[38;5;124;43m\"\u001B[39;49m\u001B[38;5;130;43;01m\\n\u001B[39;49;00m\u001B[38;5;124;43mIMAGE_DIR=\u001B[39;49m\u001B[38;5;124;43m\"\u001B[39;49m\u001B[38;5;124;43m$\u001B[39;49m\u001B[38;5;132;43;01m{COCO_DIR}\u001B[39;49;00m\u001B[38;5;124;43m/images\u001B[39;49m\u001B[38;5;124;43m\"\u001B[39;49m\u001B[38;5;130;43;01m\\n\u001B[39;49;00m\u001B[38;5;124;43mANNOTATION_DIR=\u001B[39;49m\u001B[38;5;124;43m\"\u001B[39;49m\u001B[38;5;124;43m$\u001B[39;49m\u001B[38;5;132;43;01m{COCO_DIR}\u001B[39;49;00m\u001B[38;5;124;43m/annotations\u001B[39;49m\u001B[38;5;124;43m\"\u001B[39;49m\u001B[38;5;130;43;01m\\n\u001B[39;49;00m\u001B[38;5;124;43mTRAIN_IMAGE_DIR=\u001B[39;49m\u001B[38;5;124;43m\"\u001B[39;49m\u001B[38;5;124;43m$\u001B[39;49m\u001B[38;5;132;43;01m{IMAGE_DIR}\u001B[39;49;00m\u001B[38;5;124;43m/train2017\u001B[39;49m\u001B[38;5;124;43m\"\u001B[39;49m\u001B[38;5;130;43;01m\\n\u001B[39;49;00m\u001B[38;5;124;43mTRAIN_OBJ_ANNOTATIONS_FILE=\u001B[39;49m\u001B[38;5;124;43m\"\u001B[39;49m\u001B[38;5;124;43m$\u001B[39;49m\u001B[38;5;132;43;01m{ANNOTATION_DIR}\u001B[39;49;00m\u001B[38;5;124;43m/instances_train2017.json\u001B[39;49m\u001B[38;5;124;43m\"\u001B[39;49m\u001B[38;5;130;43;01m\\n\u001B[39;49;00m\u001B[38;5;124;43mTRAIN_CAPTION_ANNOTATIONS_FILE=\u001B[39;49m\u001B[38;5;124;43m\"\u001B[39;49m\u001B[38;5;124;43m$\u001B[39;49m\u001B[38;5;132;43;01m{ANNOTATION_DIR}\u001B[39;49;00m\u001B[38;5;124;43m/captions_train2017.json\u001B[39;49m\u001B[38;5;124;43m\"\u001B[39;49m\u001B[38;5;130;43;01m\\n\u001B[39;49;00m\u001B[38;5;124;43mPYTHONPATH=\u001B[39;49m\u001B[38;5;124;43m\"\u001B[39;49m\u001B[38;5;124;43mtf-models:tf-models/research\u001B[39;49m\u001B[38;5;124;43m\"\u001B[39;49m\u001B[38;5;124;43m python3 $SCRIPT_DIR/create_coco_tf_record.py \u001B[39;49m\u001B[38;5;130;43;01m\\\\\u001B[39;49;00m\u001B[38;5;130;43;01m\\n\u001B[39;49;00m\u001B[38;5;124;43m--logtostderr \u001B[39;49m\u001B[38;5;130;43;01m\\\\\u001B[39;49;00m\u001B[38;5;130;43;01m\\n\u001B[39;49;00m\u001B[38;5;124;43m--include_masks \u001B[39;49m\u001B[38;5;130;43;01m\\\\\u001B[39;49;00m\u001B[38;5;130;43;01m\\n\u001B[39;49;00m\u001B[38;5;124;43m--image_dir=\u001B[39;49m\u001B[38;5;124;43m\"\u001B[39;49m\u001B[38;5;124;43m$\u001B[39;49m\u001B[38;5;132;43;01m{TRAIN_IMAGE_DIR}\u001B[39;49;00m\u001B[38;5;124;43m\"\u001B[39;49m\u001B[38;5;124;43m \u001B[39;49m\u001B[38;5;130;43;01m\\\\\u001B[39;49;00m\u001B[38;5;130;43;01m\\n\u001B[39;49;00m\u001B[38;5;124;43m--object_annotations_file=\u001B[39;49m\u001B[38;5;124;43m\"\u001B[39;49m\u001B[38;5;124;43m$\u001B[39;49m\u001B[38;5;132;43;01m{TRAIN_OBJ_ANNOTATIONS_FILE}\u001B[39;49;00m\u001B[38;5;124;43m\"\u001B[39;49m\u001B[38;5;124;43m \u001B[39;49m\u001B[38;5;130;43;01m\\\\\u001B[39;49;00m\u001B[38;5;130;43;01m\\n\u001B[39;49;00m\u001B[38;5;124;43m--caption_annotations_file=\u001B[39;49m\u001B[38;5;124;43m\"\u001B[39;49m\u001B[38;5;124;43m$\u001B[39;49m\u001B[38;5;132;43;01m{TRAIN_CAPTION_ANNOTATIONS_FILE}\u001B[39;49;00m\u001B[38;5;124;43m\"\u001B[39;49m\u001B[38;5;124;43m \u001B[39;49m\u001B[38;5;130;43;01m\\\\\u001B[39;49;00m\u001B[38;5;130;43;01m\\n\u001B[39;49;00m\u001B[38;5;124;43m--output_file_prefix=\u001B[39;49m\u001B[38;5;124;43m\"\u001B[39;49m\u001B[38;5;124;43m$\u001B[39;49m\u001B[38;5;132;43;01m{OUTPUT_DIR}\u001B[39;49;00m\u001B[38;5;124;43m/train\u001B[39;49m\u001B[38;5;124;43m\"\u001B[39;49m\u001B[38;5;124;43m \u001B[39;49m\u001B[38;5;130;43;01m\\\\\u001B[39;49;00m\u001B[38;5;130;43;01m\\n\u001B[39;49;00m\u001B[38;5;124;43m--num_shards=256\u001B[39;49m\u001B[38;5;130;43;01m\\n\u001B[39;49;00m\u001B[38;5;124;43m'\u001B[39;49m\u001B[43m)\u001B[49m\n",
      "File \u001B[0;32m~/anaconda3/envs/kitten-detector/lib/python3.9/site-packages/IPython/core/interactiveshell.py:2422\u001B[0m, in \u001B[0;36mInteractiveShell.run_cell_magic\u001B[0;34m(self, magic_name, line, cell)\u001B[0m\n\u001B[1;32m   2420\u001B[0m \u001B[38;5;28;01mwith\u001B[39;00m \u001B[38;5;28mself\u001B[39m\u001B[38;5;241m.\u001B[39mbuiltin_trap:\n\u001B[1;32m   2421\u001B[0m     args \u001B[38;5;241m=\u001B[39m (magic_arg_s, cell)\n\u001B[0;32m-> 2422\u001B[0m     result \u001B[38;5;241m=\u001B[39m \u001B[43mfn\u001B[49m\u001B[43m(\u001B[49m\u001B[38;5;241;43m*\u001B[39;49m\u001B[43margs\u001B[49m\u001B[43m,\u001B[49m\u001B[43m \u001B[49m\u001B[38;5;241;43m*\u001B[39;49m\u001B[38;5;241;43m*\u001B[39;49m\u001B[43mkwargs\u001B[49m\u001B[43m)\u001B[49m\n\u001B[1;32m   2423\u001B[0m \u001B[38;5;28;01mreturn\u001B[39;00m result\n",
      "File \u001B[0;32m~/anaconda3/envs/kitten-detector/lib/python3.9/site-packages/IPython/core/magics/script.py:153\u001B[0m, in \u001B[0;36mScriptMagics._make_script_magic.<locals>.named_script_magic\u001B[0;34m(line, cell)\u001B[0m\n\u001B[1;32m    151\u001B[0m \u001B[38;5;28;01melse\u001B[39;00m:\n\u001B[1;32m    152\u001B[0m     line \u001B[38;5;241m=\u001B[39m script\n\u001B[0;32m--> 153\u001B[0m \u001B[38;5;28;01mreturn\u001B[39;00m \u001B[38;5;28;43mself\u001B[39;49m\u001B[38;5;241;43m.\u001B[39;49m\u001B[43mshebang\u001B[49m\u001B[43m(\u001B[49m\u001B[43mline\u001B[49m\u001B[43m,\u001B[49m\u001B[43m \u001B[49m\u001B[43mcell\u001B[49m\u001B[43m)\u001B[49m\n",
      "File \u001B[0;32m~/anaconda3/envs/kitten-detector/lib/python3.9/site-packages/IPython/core/magics/script.py:305\u001B[0m, in \u001B[0;36mScriptMagics.shebang\u001B[0;34m(self, line, cell)\u001B[0m\n\u001B[1;32m    300\u001B[0m \u001B[38;5;28;01mif\u001B[39;00m args\u001B[38;5;241m.\u001B[39mraise_error \u001B[38;5;129;01mand\u001B[39;00m p\u001B[38;5;241m.\u001B[39mreturncode \u001B[38;5;241m!=\u001B[39m \u001B[38;5;241m0\u001B[39m:\n\u001B[1;32m    301\u001B[0m     \u001B[38;5;66;03m# If we get here and p.returncode is still None, we must have\u001B[39;00m\n\u001B[1;32m    302\u001B[0m     \u001B[38;5;66;03m# killed it but not yet seen its return code. We don't wait for it,\u001B[39;00m\n\u001B[1;32m    303\u001B[0m     \u001B[38;5;66;03m# in case it's stuck in uninterruptible sleep. -9 = SIGKILL\u001B[39;00m\n\u001B[1;32m    304\u001B[0m     rc \u001B[38;5;241m=\u001B[39m p\u001B[38;5;241m.\u001B[39mreturncode \u001B[38;5;129;01mor\u001B[39;00m \u001B[38;5;241m-\u001B[39m\u001B[38;5;241m9\u001B[39m\n\u001B[0;32m--> 305\u001B[0m     \u001B[38;5;28;01mraise\u001B[39;00m CalledProcessError(rc, cell)\n",
      "\u001B[0;31mCalledProcessError\u001B[0m: Command 'b'SCRIPT_DIR=\"~/Projects/tf-models/research\"\\nCOCO_DIR=\"/media/jan/T7 - Jan/coco\"\\nOUTPUT_DIR=\"${COCO_DIR}/tf-records\"\\nIMAGE_DIR=\"${COCO_DIR}/images\"\\nANNOTATION_DIR=\"${COCO_DIR}/annotations\"\\nTRAIN_IMAGE_DIR=\"${IMAGE_DIR}/train2017\"\\nTRAIN_OBJ_ANNOTATIONS_FILE=\"${ANNOTATION_DIR}/instances_train2017.json\"\\nTRAIN_CAPTION_ANNOTATIONS_FILE=\"${ANNOTATION_DIR}/captions_train2017.json\"\\nPYTHONPATH=\"tf-models:tf-models/research\" python3 $SCRIPT_DIR/create_coco_tf_record.py \\\\\\n--logtostderr \\\\\\n--include_masks \\\\\\n--image_dir=\"${TRAIN_IMAGE_DIR}\" \\\\\\n--object_annotations_file=\"${TRAIN_OBJ_ANNOTATIONS_FILE}\" \\\\\\n--caption_annotations_file=\"${TRAIN_CAPTION_ANNOTATIONS_FILE}\" \\\\\\n--output_file_prefix=\"${OUTPUT_DIR}/train\" \\\\\\n--num_shards=256\\n'' returned non-zero exit status 2."
     ]
    }
   ],
   "source": [
    "%%sh\n",
    "SCRIPT_DIR=\"~/Projects/tf-models/research\"\n",
    "COCO_DIR=\"/media/jan/T7 - Jan/coco\"\n",
    "OUTPUT_DIR=\"${COCO_DIR}/tf-records\"\n",
    "IMAGE_DIR=\"${COCO_DIR}/images\"\n",
    "ANNOTATION_DIR=\"${COCO_DIR}/annotations\"\n",
    "TRAIN_IMAGE_DIR=\"${IMAGE_DIR}/train2017\"\n",
    "TRAIN_OBJ_ANNOTATIONS_FILE=\"${ANNOTATION_DIR}/instances_train2017.json\"\n",
    "TRAIN_CAPTION_ANNOTATIONS_FILE=\"${ANNOTATION_DIR}/captions_train2017.json\"\n",
    "PYTHONPATH=\"tf-models:tf-models/research\" python3 $SCRIPT_DIR/create_coco_tf_record.py \\\n",
    "--logtostderr \\\n",
    "--include_masks \\\n",
    "--image_dir=\"${TRAIN_IMAGE_DIR}\" \\\n",
    "--object_annotations_file=\"${TRAIN_OBJ_ANNOTATIONS_FILE}\" \\\n",
    "--caption_annotations_file=\"${TRAIN_CAPTION_ANNOTATIONS_FILE}\" \\\n",
    "--output_file_prefix=\"${OUTPUT_DIR}/train\" \\\n",
    "--num_shards=256"
   ],
   "metadata": {
    "collapsed": false
   }
  }
 ],
 "metadata": {
  "kernelspec": {
   "display_name": "Python 3",
   "language": "python",
   "name": "python3"
  },
  "language_info": {
   "codemirror_mode": {
    "name": "ipython",
    "version": 2
   },
   "file_extension": ".py",
   "mimetype": "text/x-python",
   "name": "python",
   "nbconvert_exporter": "python",
   "pygments_lexer": "ipython2",
   "version": "2.7.6"
  }
 },
 "nbformat": 4,
 "nbformat_minor": 0
}
